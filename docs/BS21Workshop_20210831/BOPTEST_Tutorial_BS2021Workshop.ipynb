{
  "nbformat": 4,
  "nbformat_minor": 0,
  "metadata": {
    "colab": {
      "name": "Introduction to the BOPTEST framework for simulation-based benchmarking of advanced controllers.ipynb",
      "provenance": [],
      "collapsed_sections": [],
      "include_colab_link": true
    },
    "kernelspec": {
      "name": "python3",
      "display_name": "Python 3"
    },
    "language_info": {
      "name": "python"
    }
  },
  "cells": [
    {
      "cell_type": "markdown",
      "metadata": {
        "id": "view-in-github",
        "colab_type": "text"
      },
      "source": [
        "<a href=\"https://colab.research.google.com/github/JavierArroyoBastida/project1-boptest/blob/issue348_bs21Workshop/docs/tutorials/BS21Workshop_20210831/BOPTEST_Tutorial_BS2021Workshop.ipynb\" target=\"_parent\"><img src=\"https://colab.research.google.com/assets/colab-badge.svg\" alt=\"Open In Colab\"/></a>"
      ]
    },
    {
      "cell_type": "markdown",
      "metadata": {
        "id": "UmPqk-NTH5Qt"
      },
      "source": [
        "This is a hands-on tutorial to guide you through the BOPTEST framework. \n",
        "The tutorial provides:\n",
        "\n",
        "\n",
        "\n",
        "*   An overview of the BOPTEST project, goals and approach\n",
        "*   Explanation for starting up a BOPTEST case\n",
        "*   A guide through the BOPTEST API to interact with the case\n",
        "*   Example for the development and evaluation of a simple feedback controller\n",
        "*   Example of an MPC controller in the same test case\n",
        "*   Guidelines to improve upon the previously developed feedback controller\n",
        "\n",
        "\n"
      ]
    },
    {
      "cell_type": "markdown",
      "metadata": {
        "id": "3Ofjiy_aQjmG"
      },
      "source": [
        "\n",
        "\n",
        "---\n",
        "\n",
        "\n",
        "\n",
        "---\n",
        "\n",
        "\n",
        "\n",
        "\n"
      ]
    },
    {
      "cell_type": "markdown",
      "metadata": {
        "id": "FVmlH0jVPOpl"
      },
      "source": [
        "# Introduction to the BOPTEST project"
      ]
    },
    {
      "cell_type": "markdown",
      "metadata": {
        "id": "wt7Rm8TvQZzc"
      },
      "source": [
        "The Building Optimization Testing (BOPTEST) framework aims to assess and benchmark advanced algorithms for building HVAC control. \n",
        "\n",
        "An introduction to the BOPTEST project, goals and approach can be found in [this presentation](https://docs.google.com/presentation/d/18R3iOXAzxHbK1fHi5PxNNA1V-YLJdczPzxfDRynsQlg/edit?usp=sharing)."
      ]
    },
    {
      "cell_type": "markdown",
      "metadata": {
        "id": "f0XKBslSYbFr"
      },
      "source": [
        "---"
      ]
    },
    {
      "cell_type": "markdown",
      "metadata": {
        "id": "7DzxoICmQr5x"
      },
      "source": [
        "# Exercise 1: Development and evaluation of a simple feedback controller"
      ]
    },
    {
      "cell_type": "markdown",
      "metadata": {
        "id": "-OlBphqm8Ldu"
      },
      "source": [
        "## Introducrion "
      ]
    },
    {
      "cell_type": "markdown",
      "metadata": {
        "id": "qDs5BsW-RzMd"
      },
      "source": [
        "\n",
        "\n",
        "This exercise explains how to set up a BOPTEST case, provides a guide through the API, and develops a simple feedback controller. \n",
        "\n",
        "BOPTEST cases are containerized environments with:\n",
        "\n",
        "*   A detailed emulator building model.\n",
        "*   Yearly boundary condition data for weather, pricing, and emission factors. These data are representative of the building location. \n",
        "*   Other auxiliary functionality like the capability to initialize a test case, advance a simulation, select a testing scenario, compute KPIs, or provide forecast data. \n",
        "\n",
        "The test case is accessed through an API described [here](https://github.com/ibpsa/project1-boptest).\n",
        "\n",
        "The typical workflow to test a controller is:\n",
        "\n",
        "1.   Select a building from the menu of available emulators. \n",
        "2.   Select a testing scenario. Testing scenarios are standardized for each emulator and last for two weeks. \n",
        "3.   Set control parameters like the control step or the forecast horizon, if required.  \n",
        "4.   Run the simulation loop by interacting with your controller. \n",
        "5.   Request to get the KPIs to evaluate your controller performance. \n",
        "\n"
      ]
    },
    {
      "cell_type": "markdown",
      "metadata": {
        "id": "_3suztPl8UV-"
      },
      "source": [
        "## Selecting a test case\n"
      ]
    },
    {
      "cell_type": "markdown",
      "metadata": {
        "id": "jGBsMgoabG_i"
      },
      "source": [
        "\n",
        "We start by selecting and launching our own building test case. \n",
        "BOPTEST cases are hosted in a server to avoid the installation of any dependency. It is also possible to deploy a test case in your localhost with [Docker Desktop](https://www.docker.com/products/docker-desktop) which may speed up your simulations since you will be saving the wired time to reach the host every control step. In this tutorial we are going to use the server for convenience. However, the workflow when testing locally remains the same, and indications will be provided at the end of the tutorial. \n",
        "\n",
        "In this example we are going to work with the single-zone residential building with radiant floor heating and a heat pump. This is a high-fideligy yet relatively simple emulator that allows to focus on fundamental aspects of the framework. To connect to this test case we select it from the server as follows.\n",
        " The the Python `requests` library needs to be imported. "
      ]
    },
    {
      "cell_type": "code",
      "metadata": {
        "id": "z_ACm1rcn2pt"
      },
      "source": [
        "import requests\n",
        "\n",
        "# url for the BOPTEST service\n",
        "# url = 'http://ec2-23-20-252-119.compute-1.amazonaws.com'\n",
        "# I'm creating my own EC2 for making the workshop content. This url will change\n",
        "url = 'http://ec2-3-144-27-177.us-east-2.compute.amazonaws.com' \n",
        "\n",
        "# Select test case and get identifier\n",
        "testcase = 'bestest_hydronic_heat_pump'\n",
        "testid = \\\n",
        "requests.post('{0}/testcases/{1}/select'.format(url,testcase)).json()['testid']\n"
      ],
      "execution_count": 209,
      "outputs": []
    },
    {
      "cell_type": "markdown",
      "metadata": {
        "id": "Y5rUwmAcp27l"
      },
      "source": [
        "Notice that the test case has been selected based on its name. The list of currently [available test cases](https://github.com/ibpsa/project1-boptest/tree/master/testcases) is: \n",
        "\n",
        "*   `bestest_air`\n",
        "*   `bestest_hydronic`\n",
        "*   `bestest_hydronic_heat_pump`\n",
        "*   `multizone_residential_hydronic`\n",
        "\n",
        "But more test cases are expected to come soon. \n",
        "\n",
        "While the `url` is the common gateway for everyone to access the BOPTEST server, the `testid` is a unique identifier addressing to your particular test case. \n",
        "Once the `testid` is available, it is possible to start interactig with your test case as follows:"
      ]
    },
    {
      "cell_type": "code",
      "metadata": {
        "id": "gEVOjOdgpTuS",
        "colab": {
          "base_uri": "https://localhost:8080/"
        },
        "outputId": "25439ebc-3ec1-4664-cf2b-2cde8c99d496"
      },
      "source": [
        "# Get test case name\n",
        "name = requests.get('{0}/name/{1}'.format(url, testid)).json()\n",
        "print(name)\n"
      ],
      "execution_count": 210,
      "outputs": [
        {
          "output_type": "stream",
          "text": [
            "{'name': 'bestest_hydronic_heat_pump'}\n"
          ],
          "name": "stdout"
        }
      ]
    },
    {
      "cell_type": "markdown",
      "metadata": {
        "id": "6SS_OIn6aVCH"
      },
      "source": [
        "## Getting building information"
      ]
    },
    {
      "cell_type": "markdown",
      "metadata": {
        "id": "CR75-VKMn3nZ"
      },
      "source": [
        "All building information can be found under the documentation folder of the test case in: `/<testcasename>/doc/index.html`. \n",
        "This file includes a description of the building envelope, the HVAC system design, the functioning of the baseline controller, and the model inputs and outputs. \n",
        "Understanding how the system works is probably the most important practice for control design, so take as much time as needed to figure the equipment in place, the points that can be measured, and the setpoints that can be overwriten by your controller. \n",
        "We briefly summarize the `bestest_hydronic_heat_pump` case here for completeness, but it is strongly recommended to have a deeper look into the documentation. \n",
        "\n",
        "The building represents a residential dwelling of 192 $m^2$ for a family of 5 members. \n",
        "An air-to-water modulating heat pump of 15 $kW$ nominal heating capacity extracts energy from the ambient air to heat up the floor heating emission system, as shown in the figure below. \n",
        "A fan blows ambient air through the heat pump evaporator when the heat pump is operating. \n",
        "The floor heating system injects heat into the floor, with water as working fluid. \n",
        "\n",
        "![](https://drive.google.com/uc?export=view&id=1qAYEhwR3J8uABtmxmNeMetBWbGieLFcx)\n",
        "\n",
        "A baseline controller comes along with every emulator and is meant to be representative of a typical controller of that building. \n",
        "The baseline controller can be considered as a first benchmark to beat. \n",
        "In our building, a PI controller is tuned with the zone operative temperature as the controlled variable and the heat pump modulation signal for compressor frequency as the control variable, as depicted as C1 in the figure above and shown in the figure below. \n",
        "The control variable is limited between 0 and 1, and it is computed to drive the zone operative temperature towards its setpoint, which is defined as a function of the occupancy schedule. \n",
        "\n",
        "![](https://drive.google.com/uc?export=view&id=1OC1ihYSdU3YUU7nKlqUwnzcbRyXxBtRu)\n",
        "\n",
        "All other equipment (fan for the heat pump evaporator circuit and floor heating emission system pump) are switched on when the heat pump is working (modulating signal higher than 0) and switched off otherwise. \n",
        "This is depicted as controller C2. \n",
        "\n",
        "Another way of getting building information is by requesting it directly to the test case.\n",
        "The inputs, outputs, or the control step can be obtained in this way:\n",
        "\n",
        "\n",
        "\n"
      ]
    },
    {
      "cell_type": "code",
      "metadata": {
        "colab": {
          "base_uri": "https://localhost:8080/"
        },
        "id": "s3juiw8s1hH-",
        "outputId": "52a85d8e-308f-410c-a6c2-aad1e2be8147"
      },
      "source": [
        "# Get inputs available\n",
        "inputs = requests.get('{0}/inputs/{1}'.format(url, testid)).json()\n",
        "print('TEST CASE INPUTS ---------------------------------------------')\n",
        "print(inputs.keys())\n",
        "# Get measurements available\n",
        "print('TEST CASE MEASUREMENTS ---------------------------------------')\n",
        "measurements = requests.get('{0}/measurements/{1}'.format(url, testid)).json()\n",
        "print(measurements.keys())\n",
        "# Get default control step\n",
        "step = requests.get('{0}/step/{1}'.format(url, testid)).json()\n",
        "print('DEFAULT STEP PERIOD [seconds] --------------------------------')\n",
        "print(step)\n"
      ],
      "execution_count": 211,
      "outputs": [
        {
          "output_type": "stream",
          "text": [
            "TEST CASE INPUTS ---------------------------------------------\n",
            "dict_keys(['oveTSet_activate', 'ovePum_activate', 'ovePum_u', 'oveHeaPumY_u', 'oveTSet_u', 'oveHeaPumY_activate', 'oveFan_activate', 'oveFan_u'])\n",
            "TEST CASE MEASUREMENTS ---------------------------------------\n",
            "dict_keys(['weaSta_reaWeaPAtm_y', 'reaPFan_y', 'reaQHeaPumCon_y', 'reaTRet_y', 'weaSta_reaWeaNOpa_y', 'weaSta_reaWeaTBlaSky_y', 'reaQHeaPumEva_y', 'weaSta_reaWeaNTot_y', 'weaSta_reaWeaSolAlt_y', 'reaPum_y', 'reaTZon_y', 'weaSta_reaWeaHHorIR_y', 'weaSta_reaWeaLon_y', 'reaHeaPumY_y', 'weaSta_reaWeaSolTim_y', 'weaSta_reaWeaCloTim_y', 'reaPPumEmi_y', 'weaSta_reaWeaHGloHor_y', 'weaSta_reaWeaRelHum_y', 'reaTSetHea_y', 'reaFan_y', 'reaTSet_y', 'reaCO2RooAir_y', 'weaSta_reaWeaSolDec_y', 'reaPHeaPum_y', 'weaSta_reaWeaHDirNor_y', 'reaTSetCoo_y', 'weaSta_reaWeaWinDir_y', 'reaTSup_y', 'weaSta_reaWeaSolZen_y', 'reaQFloHea_y', 'reaCOP_y', 'weaSta_reaWeaTDryBul_y', 'weaSta_reaWeaTWetBul_y', 'weaSta_reaWeaTDewPoi_y', 'weaSta_reaWeaWinSpe_y', 'weaSta_reaWeaHDifHor_y', 'weaSta_reaWeaLat_y', 'weaSta_reaWeaCeiHei_y', 'weaSta_reaWeaSolHouAng_y'])\n",
            "DEFAULT STEP PERIOD [seconds] --------------------------------\n",
            "3600.0\n"
          ],
          "name": "stdout"
        }
      ]
    },
    {
      "cell_type": "markdown",
      "metadata": {
        "id": "nmhgHsgL2ADY"
      },
      "source": [
        "`_y` indicates a measurement point, `_u` indicates a variable that can be overwriten by an external controller, and `_activate` indicates a boolean (0 or 1) to enable external inputs. \n",
        "Hence, `<varname>_u` is enabled for external control when `<varname>_activate=1`.\n",
        "`weaSta_` indicates a measurement taken for a weather station of the building location, so that historical weather data can be easily retrieved. \n",
        "Notice that the requests for inputs and measurments also return a description of each variable:\n"
      ]
    },
    {
      "cell_type": "code",
      "metadata": {
        "id": "KXFpXuqv3t9Z",
        "colab": {
          "base_uri": "https://localhost:8080/"
        },
        "outputId": "af54b38d-1b78-43f1-882d-e601ac8b625f"
      },
      "source": [
        "print(inputs['oveHeaPumY_u']['Description'])\n",
        "print(inputs['oveHeaPumY_u']['Minimum'])\n",
        "print(inputs['oveHeaPumY_u']['Maximum'])"
      ],
      "execution_count": 212,
      "outputs": [
        {
          "output_type": "stream",
          "text": [
            "Heat pump modulating signal for compressor speed between 0 (not working) and 1 (working at maximum capacity)\n",
            "0\n",
            "1\n"
          ],
          "name": "stdout"
        }
      ]
    },
    {
      "cell_type": "code",
      "metadata": {
        "colab": {
          "base_uri": "https://localhost:8080/"
        },
        "id": "9D_0KmXj4AWq",
        "outputId": "3081a47b-14b3-4957-e1e6-31abb9f8e35a"
      },
      "source": [
        "print(measurements['reaTZon_y']['Description'])\n",
        "print(measurements['reaTZon_y']['Minimum'])\n",
        "print(measurements['reaTZon_y']['Maximum'])"
      ],
      "execution_count": 213,
      "outputs": [
        {
          "output_type": "stream",
          "text": [
            "Zone operative temperature\n",
            "None\n",
            "None\n"
          ],
          "name": "stdout"
        }
      ]
    },
    {
      "cell_type": "markdown",
      "metadata": {
        "id": "IWb-FDIo62B-"
      },
      "source": [
        "If an input variable is overwritten with a value above/below its maximum/minimum bound, then the maximum/minimum value is used instead. "
      ]
    },
    {
      "cell_type": "markdown",
      "metadata": {
        "id": "1HEafdhfid4C"
      },
      "source": [
        "## Initializing the test case\n"
      ]
    },
    {
      "cell_type": "markdown",
      "metadata": {
        "id": "x1_CEzKE7XKu"
      },
      "source": [
        "\n",
        "The test case can be initialized by specifying the `start_time` in seconds from the beginning of the year and the `warmup_period` to simulate the emulator right before `start_time`. \n",
        "During warm-up, the baseline controller simulates the model to prepare it to a realistic operational state. \n",
        "Additonally, all configuration parameters are left to default to leave the test case in a totally clean status.\n",
        "Let's initialize the test case for the February 1st with one week of warm-up period. \n"
      ]
    },
    {
      "cell_type": "code",
      "metadata": {
        "colab": {
          "base_uri": "https://localhost:8080/"
        },
        "id": "F7H0EF-aBaWR",
        "outputId": "0bbf1043-a220-4012-f4ba-e9f7404c3af9"
      },
      "source": [
        "y = requests.put('{0}/initialize/{1}'.format(url, testid), \n",
        "                 data={'start_time':   31*24*3600,\n",
        "                       'warmup_period': 7*24*3600}).json()\n",
        "print(y['reaTZon_y'])\n",
        "print(y['time']/24/3600)"
      ],
      "execution_count": 214,
      "outputs": [
        {
          "output_type": "stream",
          "text": [
            "294.51444681632984\n",
            "31.0\n"
          ],
          "name": "stdout"
        }
      ]
    },
    {
      "cell_type": "markdown",
      "metadata": {
        "id": "Z0pLKb3MDvxf"
      },
      "source": [
        "For the sake of benchmarking, specific scenario periods are predefined for each test case. \n",
        "These periods last for two weeks, with a one week warm-up period utilizing baseline control. \n",
        "The available scenario time periods for each test case are defined within their respective documentation. Currently, peak heating or cooling, typical heating or cooling, and mixed heating and cooling time period scenarios are consistently defined across available test cases.\n",
        "Systems that do not have cooling only have the heating scenarios available.\n",
        "More information about how the scenario periods are defined can be found [here](https://github.com/ibpsa/project1-boptest/issues/270). \n",
        "\n",
        "In addition to the testing period, a scenario is also defined by the electricity tariff, that can be `constant`, `dynamic`, or `highly_dynamic`. \n",
        "The dynamic pricing follows a day-night tariff and a highly dynamic pricing follows the wholesale electricity market for the building's location.\n",
        "Both cases include a constant offset for transportation fees and taxes such that a realistic absolute pricing is used. \n",
        "See the README in the [testcases folder](https://github.com/ibpsa/project1-boptest) for options and test case documentation for details.\n",
        "\n",
        "The `PUT /scenario` API call can be used to set a specific scenario. \n",
        "Similarly to `PUT /initialize`, this call uses a warm-up period to initialize the case but moves it to a predefined starting date.\n",
        "All test case variables are also reset, and a variable is triggered that makes sure to stop at the end of the test, i.e. after precisely two weeks.  \n",
        "The following shall be used to set the `peak_heat_scenario` with a `dynamic` electricity tariff:\n"
      ]
    },
    {
      "cell_type": "code",
      "metadata": {
        "id": "FFSk7Me8M0uB"
      },
      "source": [
        "scenario_return = requests.put('{0}/scenario/{1}'.format(url, testid), \n",
        "                  data={'time_period':'peak_heat_day',\n",
        "                        'electricity_price':'dynamic'}).json()"
      ],
      "execution_count": 215,
      "outputs": []
    },
    {
      "cell_type": "markdown",
      "metadata": {
        "id": "wb-wrONNROe5"
      },
      "source": [
        "Note that setting the scenario API call returns two arguments: the `'time_period'` with the initial measurements of the scenario time period, and the `'electricity_price'` that will be `True` if succeeded in changing the electricity price tariff.\n"
      ]
    },
    {
      "cell_type": "code",
      "metadata": {
        "colab": {
          "base_uri": "https://localhost:8080/"
        },
        "id": "XyE9xNv8NkAI",
        "outputId": "d05f8ec4-7c57-4816-d785-9c58df4165b4"
      },
      "source": [
        "y = scenario_return['time_period']\n",
        "start_time_days = y['time']/24/3600\n",
        "print(y['time']/24/3600)\n",
        "print(y['reaTZon_y']-273.15)\n",
        "print(scenario_return['electricity_price'])"
      ],
      "execution_count": 216,
      "outputs": [
        {
          "output_type": "stream",
          "text": [
            "16.0\n",
            "21.31439191282618\n",
            "True\n"
          ],
          "name": "stdout"
        }
      ]
    },
    {
      "cell_type": "markdown",
      "metadata": {
        "id": "iTsT9pZLNtDR"
      },
      "source": [
        "To check the current test case scenario use the call to get the scenario:"
      ]
    },
    {
      "cell_type": "code",
      "metadata": {
        "colab": {
          "base_uri": "https://localhost:8080/"
        },
        "id": "BFAMBuv6TZKp",
        "outputId": "03772c12-b1c5-45eb-eb2d-851dc9e95b06"
      },
      "source": [
        "requests.get('{0}/scenario/{1}'.format(url, testid)).json()"
      ],
      "execution_count": 217,
      "outputs": [
        {
          "output_type": "execute_result",
          "data": {
            "text/plain": [
              "{'electricity_price': 'dynamic', 'time_period': 'peak_heat_day'}"
            ]
          },
          "metadata": {
            "tags": []
          },
          "execution_count": 217
        }
      ]
    },
    {
      "cell_type": "markdown",
      "metadata": {
        "id": "F2QmxlnlT6Pf"
      },
      "source": [
        "## Advancing the simulation"
      ]
    },
    {
      "cell_type": "markdown",
      "metadata": {
        "id": "CdvzFRxpT-Hb"
      },
      "source": [
        "When no inputs are provided, the simulation is advanced with the baseline controller. For instance, the following advances the simulation for one control step (3600 seconds by default) and using the baseline controller. "
      ]
    },
    {
      "cell_type": "code",
      "metadata": {
        "id": "H9ccFluMUjtg"
      },
      "source": [
        "y = requests.post('{0}/advance/{1}'.format(url, testid), data={}).json()"
      ],
      "execution_count": 218,
      "outputs": []
    },
    {
      "cell_type": "markdown",
      "metadata": {
        "id": "MX6bOApeVRN_"
      },
      "source": [
        "No inputs are overwriten because an empty dictionary (`data={}`) has been sent. However, the simulation has advanced one hour with the baseline controller from the initial time of the `peak_heat_period` scenario where we moved our test case. "
      ]
    },
    {
      "cell_type": "code",
      "metadata": {
        "colab": {
          "base_uri": "https://localhost:8080/"
        },
        "id": "tXGnJIvcVCyx",
        "outputId": "a71cb2c6-ca73-48fb-be17-150d16112a99"
      },
      "source": [
        "print(y['time']/24/3600)\n",
        "print(y['reaTZon_y']-273.15)"
      ],
      "execution_count": 219,
      "outputs": [
        {
          "output_type": "stream",
          "text": [
            "16.041666666666668\n",
            "21.4063979568582\n"
          ],
          "name": "stdout"
        }
      ]
    },
    {
      "cell_type": "markdown",
      "metadata": {
        "id": "uoBwCXZ9XaBw"
      },
      "source": [
        "In order to overwrite the heat pump modulation signal it is needed to activate this signal when advancing the simulation and to pass the desired value.\n",
        "The following advances the simulation with the heat pump at half of its capacity for one hour. \n",
        "Remember that the evaporator fan and the circulation pump will be automatically switched on because of controller C2.  "
      ]
    },
    {
      "cell_type": "code",
      "metadata": {
        "id": "BIlIHKB4YP1P",
        "colab": {
          "base_uri": "https://localhost:8080/"
        },
        "outputId": "89b466ae-bb71-4f32-ac8c-cd91a6d84d85"
      },
      "source": [
        "u = {'oveHeaPumY_u':0.5,\n",
        "     'oveHeaPumY_activate': 1}\n",
        "y = requests.post('{0}/advance/{1}'.format(url, testid), data=u).json()\n",
        "print(y['time']/24/3600)\n",
        "print(y['reaTZon_y']-273.15)\n"
      ],
      "execution_count": 220,
      "outputs": [
        {
          "output_type": "stream",
          "text": [
            "16.083333333333332\n",
            "21.415455010972664\n"
          ],
          "name": "stdout"
        }
      ]
    },
    {
      "cell_type": "markdown",
      "metadata": {
        "id": "m8kWONS5YpG9"
      },
      "source": [
        "## Getting results"
      ]
    },
    {
      "cell_type": "markdown",
      "metadata": {
        "id": "PnR1p5H9Ytru"
      },
      "source": [
        "The simulation results can be obtained at every time with the `GET /results` API call. The point to be retrieved needs to be specified, as in an actual building management system. "
      ]
    },
    {
      "cell_type": "code",
      "metadata": {
        "colab": {
          "base_uri": "https://localhost:8080/",
          "height": 297
        },
        "id": "rU_eIpcFZaVg",
        "outputId": "150de52e-e3ba-464a-b443-b7df288b58a4"
      },
      "source": [
        "import numpy as np\n",
        "import matplotlib.pyplot as plt\n",
        "\n",
        "args = {'point_name':'reaTZon_y','start_time':-np.inf, 'final_time':np.inf}\n",
        "res = requests.put('{0}/results/{1}'.format(url, testid), data=args).json()\n",
        "plt.plot(np.asarray(res['time'])/24/3600, np.asarray(res['reaTZon_y'])-273.15)\n",
        "plt.xlabel('Time from beginning of the year (days)')\n",
        "plt.ylabel('Zone operative temperature (degC)')\n",
        "plt.axvline(start_time_days, linestyle='--', color='r')"
      ],
      "execution_count": 221,
      "outputs": [
        {
          "output_type": "execute_result",
          "data": {
            "text/plain": [
              "<matplotlib.lines.Line2D at 0x7f02e9509b10>"
            ]
          },
          "metadata": {
            "tags": []
          },
          "execution_count": 221
        },
        {
          "output_type": "display_data",
          "data": {
            "image/png": "[encoded data removed]",
            "text/plain": [
              "<Figure size 432x288 with 1 Axes>"
            ]
          },
          "metadata": {
            "tags": [],
            "needs_background": "light"
          }
        }
      ]
    },
    {
      "cell_type": "markdown",
      "metadata": {
        "id": "L6qrOng3dKqz"
      },
      "source": [
        "Note that most of the simulation results correspond to the one week warm-up period, and only a small part to the steps advanced during the actual scenario period. \n",
        "The results are provided also during the initialization period such that advanced controllers like MPC could use them to initialize their controls, e.g. with state estimation. \n",
        "\n",
        "The core KPIs are defined in BOPTEST to evaluate different aspects of a controller. These are:\n",
        "\n",
        "*   **Thermal discomfort**:  reported with units of [$K \\, h/zone$], defines the cumulative deviation of zone temperatures from upper and lower comfort limits that are predefined within the test case FMU for each zone, averaged over all zones.  Air temperature is used for air-based systems and operative temperature is used for radiant systems.\n",
        "*   **Indoor Air Quality (IAQ) Discomfort**: reported with units of [$ppm \\, h/zone$], defines the extent that the CO$_2$ concentration levels in zones exceed  bounds of the acceptable concentration level, which are predefined within the test case FMU for each zone, averaged over all zones.\n",
        "*   **Energy Use**: reported with units of [$kWh/m^2$], defines the HVAC energy usage. \n",
        "*   **Cost**: reported with units of [USD/$m^2$] or [EUR/$m^2$], defines the cost associated with the HVAC energy usage.\n",
        "*   **Emissions**: reported with units of  [$kg \\, CO_2/m^2$], defines the CO$_2$ emissions from the HVAC energy usage.\n",
        "*   **Computational time ratio**: defines the average ratio between the controller computation time and the test simulation control step. The controller computation time is measured as the time between two emulator simulations.\n",
        "\n",
        "The core KPIs are normally calculated at the end of the simulation to assess the controller performance, although they can be computed at any time. \n",
        "The initialization period is not taken into account for the calculation of the KPIs.\n",
        "\n"
      ]
    },
    {
      "cell_type": "code",
      "metadata": {
        "id": "S7bzFPZBhIFR",
        "colab": {
          "base_uri": "https://localhost:8080/"
        },
        "outputId": "4fd0dbfb-336c-43a9-b742-56226dd2d09a"
      },
      "source": [
        "requests.get('{0}/kpi/{1}'.format(url, testid)).json()"
      ],
      "execution_count": 222,
      "outputs": [
        {
          "output_type": "execute_result",
          "data": {
            "text/plain": [
              "{'cost_tot': 0.006766128663417423,\n",
              " 'emis_tot': 0.004741684795596767,\n",
              " 'ener_tot': 0.028393322129321955,\n",
              " 'idis_tot': 0.0,\n",
              " 'tdis_tot': 0.0,\n",
              " 'time_rat': 0.0013433124621709189}"
            ]
          },
          "metadata": {
            "tags": []
          },
          "execution_count": 222
        }
      ]
    },
    {
      "cell_type": "markdown",
      "metadata": {
        "id": "nLwaTeZohmX_"
      },
      "source": [
        "## Simulating the baseline for benchmarking"
      ]
    },
    {
      "cell_type": "markdown",
      "metadata": {
        "id": "eRUBoh78iFd5"
      },
      "source": [
        "We reinitialize the test case to return it to a clean state and record the KPIs of the baseline after simulation for future comparison. \n",
        "The baseline can be quickly simulated by setting a long control step and without overwritting any control signal when advancing the simulation.\n",
        "Particularly, we set the control step to one year to prove that the simulation is forced to stop after two weeks when using the standardized scenario periods. \n"
      ]
    },
    {
      "cell_type": "code",
      "metadata": {
        "colab": {
          "base_uri": "https://localhost:8080/"
        },
        "id": "U-DD8_kciaGx",
        "outputId": "9931cb01-4e5e-4c16-ea75-94ad429105bf"
      },
      "source": [
        "requests.put('{0}/scenario/{1}'.format(url, testid), \n",
        "              data={'time_period':'peak_heat_day',\n",
        "                    'electricity_price':'dynamic'}).json()\n",
        "requests.put('{0}/step/{1}'.format(url, testid), data={'step':365*24*3600})\n",
        "requests.post('{0}/advance/{1}'.format(url, testid), data={}).json()\n",
        "kpis_bas = requests.get('{0}/kpi/{1}'.format(url, testid)).json()\n",
        "kpis_bas"
      ],
      "execution_count": 223,
      "outputs": [
        {
          "output_type": "execute_result",
          "data": {
            "text/plain": [
              "{'cost_tot': 0.8828697723365668,\n",
              " 'emis_tot': 0.5808439890819883,\n",
              " 'ener_tot': 3.478107719053822,\n",
              " 'idis_tot': 0.0,\n",
              " 'tdis_tot': 8.38250234234847,\n",
              " 'time_rat': 1.2137689970278727e-06}"
            ]
          },
          "metadata": {
            "tags": []
          },
          "execution_count": 223
        }
      ]
    },
    {
      "cell_type": "markdown",
      "metadata": {
        "id": "GnzL11hhj6UG"
      },
      "source": [
        "The following function can be used for a time series visualization of the results:"
      ]
    },
    {
      "cell_type": "code",
      "metadata": {
        "id": "8n7x80jBkJbA"
      },
      "source": [
        "import pandas as pd\n",
        "def get_and_plot_results(testid, start_time, final_time):\n",
        "    df_res = pd.DataFrame()\n",
        "    for point in ['reaTZon_y', 'reaTSetHea_y', 'reaTSetCoo_y', 'reaHeaPumY_y', \n",
        "                  'weaSta_reaWeaTDryBul_y', 'weaSta_reaWeaHDirNor_y']:\n",
        "        # Retrieve full simlation year to ensure we get all data\n",
        "        args = {'point_name':point,\n",
        "                'start_time':start_time, \n",
        "                'final_time':final_time}\n",
        "        res = requests.put('{0}/results/{1}'.format(url, testid), \n",
        "                           data=args).json()\n",
        "        df_res = pd.concat((df_res,pd.DataFrame(data=res[point], \n",
        "                            index=res['time'],columns=[point])), axis=1)\n",
        "    df_res.index.name = 'time'\n",
        "    plt.close()\n",
        "    _, axs = plt.subplots(3, sharex=True, figsize=(8,6))\n",
        "    x_time = df_res.index/3600./24.\n",
        "    # Plot operative temperature\n",
        "    axs[0].plot(x_time, df_res['reaTZon_y']    - 273.15, 'darkorange', \n",
        "                linestyle='-', linewidth=0.8, label='$T_z$')\n",
        "    axs[0].plot(x_time, df_res['reaTSetHea_y'] - 273.15, 'gray', \n",
        "                linewidth=0.8, label='Comfort setp.')\n",
        "    axs[0].plot(x_time, df_res['reaTSetCoo_y'] - 273.15, 'gray', \n",
        "                linewidth=0.8, label='_nolegend_')\n",
        "    axs[0].set_yticks(np.arange(15, 31, 5))\n",
        "    axs[0].set_ylabel('Operative\\ntemperature\\n($^\\circ$C)')\n",
        "    axs[0].legend()\n",
        "    # Plot heat pump modulation signal\n",
        "    axs[1].plot(x_time, df_res['reaHeaPumY_y'], 'darkorange',     \n",
        "                linestyle='-', linewidth=0.8, label='$u_{hp}$')\n",
        "    axs[1].set_ylabel('Heat pump\\nmodulation\\nsignal\\n( - )')\n",
        "    axs[1].legend()\n",
        "    # Plot disturbances\n",
        "    axs[2].plot(x_time, df_res['weaSta_reaWeaTDryBul_y'] - 273.15, 'royalblue', \n",
        "                linestyle='-', linewidth=0.8, label='$T_a$')\n",
        "    axs[2].set_ylabel('Ambient\\ntemperature\\n($^\\circ$C)')\n",
        "    axs[2].set_yticks(np.arange(-5, 16, 5))\n",
        "    axs[2].legend(loc='upper left')\n",
        "    axs[2].set_xlabel('Day of the year')\n",
        "    axt = axs[2].twinx()\n",
        "    axt.plot(x_time, df_res['weaSta_reaWeaHDirNor_y'], 'gold', \n",
        "             linestyle='-', linewidth=0.8, label='$\\dot{Q}_{rad}$')\n",
        "    axt.set_ylabel('Solar\\nirradiation\\n($W$)')\n",
        "    axt.legend(loc='upper right')\n",
        "    plt.show()  "
      ],
      "execution_count": 224,
      "outputs": []
    },
    {
      "cell_type": "code",
      "metadata": {
        "colab": {
          "base_uri": "https://localhost:8080/",
          "height": 388
        },
        "id": "iajzYCqXkL0p",
        "outputId": "c938b392-3b14-406f-ecf7-6672b57f44b5"
      },
      "source": [
        "get_and_plot_results(testid, start_time=start_time_days*24*3600, final_time=np.inf)"
      ],
      "execution_count": 225,
      "outputs": [
        {
          "output_type": "display_data",
          "data": {
            "image/png": "[encoded data removed]",
            "text/plain": [
              "<Figure size 576x432 with 4 Axes>"
            ]
          },
          "metadata": {
            "tags": [],
            "needs_background": "light"
          }
        }
      ]
    },
    {
      "cell_type": "markdown",
      "metadata": {
        "id": "MMhFovHtYj5b"
      },
      "source": [
        "---"
      ]
    },
    {
      "cell_type": "markdown",
      "metadata": {
        "id": "W_pFyhI4lpSh"
      },
      "source": [
        "## Assessing your own control algorithm"
      ]
    },
    {
      "cell_type": "markdown",
      "metadata": {
        "id": "GpHRsDjyW85a"
      },
      "source": [
        "Now that we know how to initialize a test case, advance a simulation and obtain results, it is time to implement and assess our own control algorithm. \n",
        "For this example we are going to implement a very simple proportional controller that will determine the heat pump modulation signal as a function of the zone operative temperature.\n",
        "No other variables need to be overwritten since the subcontroller C2 will switch on the heat pump fan and the circulation pump every time we send a control signal with `oveHeaPumY_u>0`. \n",
        "Only two parameters need tuning: the temperature setpoint and the proportionality constant: "
      ]
    },
    {
      "cell_type": "code",
      "metadata": {
        "id": "2bDPahItY5Lt"
      },
      "source": [
        "class Controller_Proportional(object):\n",
        "    \n",
        "    def __init__(self, TSet=273.15+21, k_p=10.):\n",
        "        '''Constructor.\n",
        "\n",
        "        Parameters\n",
        "        ----------\n",
        "        TSet : float, optional\n",
        "            Temperature set-point.\n",
        "        k_p : float, optional\n",
        "            Proportionality constant. \n",
        "            \n",
        "        '''\n",
        "        \n",
        "        self.TSet = TSet\n",
        "        self.k_p  = k_p\n",
        "    \n",
        "    def compute_control(self, y):\n",
        "        '''Compute the control input from the measurement.\n",
        "    \n",
        "        Parameters\n",
        "        ----------\n",
        "        y : dict\n",
        "            Contains the current values of the measurements.\n",
        "            {<measurement_name>:<measurement_value>}\n",
        "    \n",
        "        Returns\n",
        "        -------\n",
        "        u : dict\n",
        "            Defines the control input to be used for the next step.\n",
        "            {<input_name> : <input_value>}\n",
        "    \n",
        "        '''\n",
        "    \n",
        "        # Compute control\n",
        "        if y['reaTZon_y']<self.TSet:\n",
        "            e = self.TSet - y['reaTZon_y']\n",
        "        else:\n",
        "            e = 0\n",
        "    \n",
        "        value = self.k_p*e\n",
        "        u = {'oveHeaPumY_u':value,\n",
        "             'oveHeaPumY_activate': 1}\n",
        "    \n",
        "        return u"
      ],
      "execution_count": 226,
      "outputs": []
    },
    {
      "cell_type": "markdown",
      "metadata": {
        "id": "G0lxuHPXZABi"
      },
      "source": [
        "Now let's initialize the test case in the same scenario that we used to obtain the baseline KPIs, that is, the peak heating period with dynamic pricing. \n",
        "This time we set the control step to be of one hour. \n",
        "After that, we instantiate the controller and define a simulation loop. \n",
        "Note that the test case will return an empty dictionary when the testing period has elapsed, such that we can loop over the returned measurements without having to infer when the simulation time should end."
      ]
    },
    {
      "cell_type": "code",
      "metadata": {
        "colab": {
          "base_uri": "https://localhost:8080/"
        },
        "id": "daplgiu0c8zl",
        "outputId": "6d747022-211c-431b-cb9e-688da4dbc350"
      },
      "source": [
        "y = requests.put('{0}/scenario/{1}'.format(url, testid), \n",
        "                 data={'time_period':'peak_heat_day',\n",
        "                       'electricity_price':'dynamic'}).json()['time_period']\n",
        "requests.put('{0}/step/{1}'.format(url, testid), data={'step':3600})\n",
        "\n",
        "con = Controller_Proportional(TSet=273.15+21, k_p=5.)\n",
        "\n",
        "# Simulation loop\n",
        "from IPython.display import clear_output\n",
        "while y:\n",
        "    clear_output(wait=True)\n",
        "    print('-------------------------------------------------------------------')\n",
        "    print('Operative temperature  = {:.2f}'.format(y['reaTZon_y']-273.15))\n",
        "    simulation_time_days = y['time']/3600/24\n",
        "    print('Simulation time (days) = {:.2f}'.format((simulation_time_days - \\\n",
        "                                                    start_time_days)))\n",
        "    print('-------------------------------------------------------------------')\n",
        "    # Compute control signal \n",
        "    u = con.compute_control(y)\n",
        "    # Advance simulation with control signal\n",
        "    y = requests.post('{0}/advance/{1}'.format(url, testid), data=u).json()    \n"
      ],
      "execution_count": 227,
      "outputs": [
        {
          "output_type": "stream",
          "text": [
            "-------------------------------------------------------------------\n",
            "Operative temperature  = 20.81\n",
            "Simulation time (days) = 14.00\n",
            "-------------------------------------------------------------------\n"
          ],
          "name": "stdout"
        }
      ]
    },
    {
      "cell_type": "markdown",
      "metadata": {
        "id": "ZeasYs0bfnfA"
      },
      "source": [
        "After the simulation is done, we can plot the results, obtain KPIs and compare with those obtained for the baseline controller:"
      ]
    },
    {
      "cell_type": "code",
      "metadata": {
        "colab": {
          "base_uri": "https://localhost:8080/",
          "height": 388
        },
        "id": "LvpSP0Frfzb-",
        "outputId": "35e327e2-a968-43e4-d9f6-c21c65d1a936"
      },
      "source": [
        "get_and_plot_results(testid, start_time=start_time_days*24*3600, final_time=np.inf)"
      ],
      "execution_count": 228,
      "outputs": [
        {
          "output_type": "display_data",
          "data": {
            "image/png": "[encoded data removed]",
            "text/plain": [
              "<Figure size 576x432 with 4 Axes>"
            ]
          },
          "metadata": {
            "tags": [],
            "needs_background": "light"
          }
        }
      ]
    },
    {
      "cell_type": "code",
      "metadata": {
        "colab": {
          "base_uri": "https://localhost:8080/"
        },
        "id": "uYwtqA_2gHVP",
        "outputId": "10802aa2-63e2-482b-f3ca-94df971a0043"
      },
      "source": [
        "kpis_con = requests.get('{0}/kpi/{1}'.format(url, testid)).json()\n",
        "kpis_con"
      ],
      "execution_count": 229,
      "outputs": [
        {
          "output_type": "execute_result",
          "data": {
            "text/plain": [
              "{'cost_tot': 0.7025804273828494,\n",
              " 'emis_tot': 0.4612590709883337,\n",
              " 'ener_tot': 2.762030365199603,\n",
              " 'idis_tot': 0.0,\n",
              " 'tdis_tot': 19.214004362870106,\n",
              " 'time_rat': 5.0304873603584355e-05}"
            ]
          },
          "metadata": {
            "tags": []
          },
          "execution_count": 229
        }
      ]
    },
    {
      "cell_type": "code",
      "metadata": {
        "colab": {
          "base_uri": "https://localhost:8080/"
        },
        "id": "cjhWmt8sqVAi",
        "outputId": "db8d7763-b4ea-4a74-8730-bf52ac891019"
      },
      "source": [
        "kpis_bas"
      ],
      "execution_count": 230,
      "outputs": [
        {
          "output_type": "execute_result",
          "data": {
            "text/plain": [
              "{'cost_tot': 0.8828697723365668,\n",
              " 'emis_tot': 0.5808439890819883,\n",
              " 'ener_tot': 3.478107719053822,\n",
              " 'idis_tot': 0.0,\n",
              " 'tdis_tot': 8.38250234234847,\n",
              " 'time_rat': 1.2137689970278727e-06}"
            ]
          },
          "metadata": {
            "tags": []
          },
          "execution_count": 230
        }
      ]
    },
    {
      "cell_type": "markdown",
      "metadata": {
        "id": "YBGPmm8TxLko"
      },
      "source": [
        "Our controller does not improve the results so far. \n",
        "Contrarily, it substantially increases thermal discomfort. \n",
        "You may want to re-run the previous cells with different values of `TSet` and `k_p` to find a good balance between comfort and operational cost. \n",
        "Feel free to set other control steps, use other measurements, or change the test case scenario. "
      ]
    },
    {
      "cell_type": "markdown",
      "metadata": {
        "id": "anzaWV-rUUhv"
      },
      "source": [
        "# Example MPC controller"
      ]
    },
    {
      "cell_type": "markdown",
      "metadata": {
        "id": "uK24xVcyWpAI"
      },
      "source": [
        "An example of the implementation and evaluation of an MPC for the BOPTEST case of this tutorial can be found in [this presentation](https://docs.google.com/presentation/d/1LjJLFKltNW7ez-TchkBA5lCtgfj5lpggBFBDK8clVCk/edit?usp=sharing). "
      ]
    },
    {
      "cell_type": "markdown",
      "metadata": {
        "id": "KPuRmek6YmP7"
      },
      "source": [
        "---"
      ]
    },
    {
      "cell_type": "markdown",
      "metadata": {
        "id": "Yw7TSQJzXRYW"
      },
      "source": [
        "# Exercise 2: Timed common exercise"
      ]
    },
    {
      "cell_type": "markdown",
      "metadata": {
        "id": "rm4_fFiZXZKo"
      },
      "source": [
        "The goal of this part of the tutorial is to optimize the controller developed in Exercise 1 by further tuning for energy, energy cost, and discomfort reduction. Team-work is encouraged from this point. "
      ]
    },
    {
      "cell_type": "markdown",
      "metadata": {
        "id": "Cn_eIBz4YtB3"
      },
      "source": [
        "---"
      ]
    },
    {
      "cell_type": "markdown",
      "metadata": {
        "id": "GMxKNcG9Xnf4"
      },
      "source": [
        "# Wrap-up and follow up exercise"
      ]
    },
    {
      "cell_type": "markdown",
      "metadata": {
        "id": "cM6SEb53Xvnp"
      },
      "source": [
        "A summary of the workshop content and introduction to the off-line competition can be found in [this presentation](https://docs.google.com/presentation/d/1PvYuFNh7aZ59rzoz7__rHW_0QXo3G0_UhA7XrNeqpFc/edit?usp=sharing). "
      ]
    }
  ]
}